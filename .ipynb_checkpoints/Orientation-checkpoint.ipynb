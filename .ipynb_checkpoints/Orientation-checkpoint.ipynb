{
 "cells": [
  {
   "cell_type": "code",
   "execution_count": 61,
   "id": "2628771e-90d3-46a9-960c-0d6cdff59671",
   "metadata": {},
   "outputs": [],
   "source": [
    "# load required modules\n",
    "import geopandas as gpd\n",
    "import pandas as pd\n",
    "import numpy as np\n",
    "from shapely.ops import nearest_points\n",
    "from shapely import wkt\n",
    "\n"
   ]
  },
  {
   "cell_type": "code",
   "execution_count": 62,
   "id": "79d9d6c0-bca1-46dc-a3bb-137de67f8841",
   "metadata": {},
   "outputs": [
    {
     "name": "stdout",
     "output_type": "stream",
     "text": [
      "Index(['state', 'sa4', 'geometry', 'index_right', 'osm_id', 'code', 'fclass',\n",
      "       'name', 'layer', 'bridge', 'tunnel', 'fname', 'type', 'width',\n",
      "       'population', 'ref', 'oneway', 'maxspeed', 'dist_to_road'],\n",
      "      dtype='object')\n",
      "Index(['state', 'sa4', 'geometry', 'index_right', 'osm_id', 'code', 'fclass',\n",
      "       'name', 'layer', 'bridge', 'tunnel', 'fname', 'type', 'width',\n",
      "       'population', 'ref', 'oneway', 'maxspeed', 'dist_to_road',\n",
      "       'geometry_road'],\n",
      "      dtype='object')\n"
     ]
    }
   ],
   "source": [
    "\n",
    "\n",
    "# --- Load cadastre and roads files---\n",
    "cadastre = gpd.read_file(\"cadastre.gpkg\")\n",
    "roads = gpd.read_file(\"roads.gpkg\")\n",
    "\n",
    "# --- Step 1: Reproject to projected CRS (meters) ---\n",
    "projected_crs = \"EPSG:7856\"  # GDA2020 MGA zone; adjust if needed\n",
    "cadastre = cadastre.to_crs(projected_crs)\n",
    "roads = roads.to_crs(projected_crs)\n",
    "\n",
    "# --- Step 2: sjoin_nearest ---\n",
    "cadastre_nearest = gpd.sjoin_nearest(\n",
    "    cadastre,\n",
    "    roads,                 # include only geometry if no other cols\n",
    "    how=\"left\",\n",
    "    distance_col=\"dist_to_road\"\n",
    ")\n",
    "\n",
    "# Inspect columns\n",
    "print(cadastre_nearest.columns)\n",
    "\n",
    "# The nearest road geometry is now in 'geometry_right' only if roads had additional cols.\n",
    "# If roads only had 'geometry', then cadastre_nearest['geometry'] = parcel geometry.\n",
    "# In that case, we manually extract nearest road geometry using index_right:\n",
    "cadastre_nearest[\"geometry_road\"] = roads.loc[cadastre_nearest[\"index_right\"]].geometry.values\n",
    "print(cadastre_nearest.columns)\n"
   ]
  },
  {
   "cell_type": "code",
   "execution_count": 63,
   "id": "c794d20e-41ae-4c30-beb7-13ed2925f9ef",
   "metadata": {},
   "outputs": [
    {
     "name": "stdout",
     "output_type": "stream",
     "text": [
      "0       189.534618\n",
      "0       343.443162\n",
      "1       343.443162\n",
      "2        72.321502\n",
      "3        72.321502\n",
      "           ...    \n",
      "1289     81.120186\n",
      "1290     81.120186\n",
      "1291     81.120186\n",
      "1292     81.120186\n",
      "1293     81.120186\n",
      "Name: azimuth, Length: 1473, dtype: float64\n"
     ]
    }
   ],
   "source": [
    "#--compute azimuthal angle--#\n",
    "def line_azimuth(line):\n",
    "    if line is None or line.is_empty:\n",
    "        return np.nan\n",
    "    if line.geom_type.startswith(\"Multi\"):\n",
    "        line = list(line.geoms)[0]\n",
    "    x1, y1 = line.coords[0]\n",
    "    x2, y2 = line.coords[-1]\n",
    "    angle = np.degrees(np.arctan2((x2 - x1), (y2 - y1)))\n",
    "    return (angle + 360) % 360\n",
    "\n",
    "cadastre_nearest[\"azimuth\"] = cadastre_nearest[\"geometry_road\"].apply(line_azimuth)\n",
    "print(cadastre_nearest[\"azimuth\"])"
   ]
  },
  {
   "cell_type": "code",
   "execution_count": 64,
   "id": "a7320450-b420-4845-876a-87be2dfdc719",
   "metadata": {},
   "outputs": [
    {
     "data": {
      "text/plain": [
       "0       S\n",
       "0       N\n",
       "1       N\n",
       "2       E\n",
       "3       E\n",
       "       ..\n",
       "1289    E\n",
       "1290    E\n",
       "1291    E\n",
       "1292    E\n",
       "1293    E\n",
       "Name: orientation, Length: 1473, dtype: object"
      ]
     },
     "execution_count": 64,
     "metadata": {},
     "output_type": "execute_result"
    }
   ],
   "source": [
    "#-- convert azimutal to cardinal angle----#\n",
    "def azimuth_to_cardinal(angle):\n",
    "    if pd.isna(angle):\n",
    "        return None\n",
    "    dirs = ['N', 'NE', 'E', 'SE', 'S', 'SW', 'W', 'NW']\n",
    "    ix = int((angle + 22.5) // 45) % 8\n",
    "    return dirs[ix]\n",
    "\n",
    "cadastre_nearest[\"orientation\"] = cadastre_nearest[\"azimuth\"].apply(azimuth_to_cardinal)\n",
    "cadastre_nearest[\"orientation\"]\n"
   ]
  },
  {
   "cell_type": "code",
   "execution_count": 66,
   "id": "1232cc25-2332-4d37-aba8-0e61dec16c16",
   "metadata": {},
   "outputs": [
    {
     "name": "stdout",
     "output_type": "stream",
     "text": [
      "  state                                sa4  \\\n",
      "0   NSW  Sydney - North Sydney and Hornsby   \n",
      "0   NSW  Sydney - North Sydney and Hornsby   \n",
      "1   NSW  Sydney - North Sydney and Hornsby   \n",
      "2   NSW  Sydney - North Sydney and Hornsby   \n",
      "3   NSW  Sydney - North Sydney and Hornsby   \n",
      "\n",
      "                                            geometry  rt_idx      osm_id  \\\n",
      "0  MULTIPOLYGON (((334341.254 6259167.939, 334393...      19   507890154   \n",
      "0  MULTIPOLYGON (((334341.254 6259167.939, 334393...       4  1081035341   \n",
      "1  MULTIPOLYGON (((334357.587 6259229.986, 334384...       4  1081035341   \n",
      "2  MULTIPOLYGON (((334386.743 6259103.77, 334449....       3   507890155   \n",
      "3  MULTIPOLYGON (((334408.411 6259070.466, 334420...       3   507890155   \n",
      "\n",
      "   code   fclass                         name  layer bridge  ...  type width  \\\n",
      "0  5154     path                         None    0.0      F  ...  None  None   \n",
      "0  5154     path  Harold Reid Foreshore Track    0.0      F  ...  None  None   \n",
      "1  5154     path  Harold Reid Foreshore Track    0.0      F  ...  None  None   \n",
      "2  5141  service                         None    0.0      F  ...  None  None   \n",
      "3  5141  service                         None    0.0      F  ...  None  None   \n",
      "\n",
      "  population   ref oneway maxspeed dist_to_road  \\\n",
      "0       None  None      B      0.0          0.0   \n",
      "0       None  None      B      0.0          0.0   \n",
      "1       None  None      B      0.0          0.0   \n",
      "2       None  None      B      0.0          0.0   \n",
      "3       None  None      B      0.0          0.0   \n",
      "\n",
      "                                       geometry_road     azimuth orientation  \n",
      "0  LINESTRING (334885.554 6258907.861, 334897.732...  189.534618           S  \n",
      "0  LINESTRING (334479.625 6259000.213, 334487.743...  343.443162           N  \n",
      "1  LINESTRING (334479.625 6259000.213, 334487.743...  343.443162           N  \n",
      "2  LINESTRING (334437.137 6258999.53, 334436.38 6...   72.321502           E  \n",
      "3  LINESTRING (334437.137 6258999.53, 334436.38 6...   72.321502           E  \n",
      "\n",
      "[5 rows x 22 columns]\n"
     ]
    }
   ],
   "source": [
    "\n",
    "# Load properties with pandas\n",
    "gnaf_df = pd.read_parquet(\"gnaf_prop.parquet\")\n",
    "\n",
    "# Identify geometry in GNAF\n",
    "# Example: if GNAF has lon/lat columns\n",
    "if {\"longitude\", \"latitude\"}.issubset(gnaf_df.columns):\n",
    "    gnaf = gpd.GeoDataFrame(\n",
    "        gnaf_df,\n",
    "        geometry=gpd.points_from_xy(gnaf_df[\"longitude\"], gnaf_df[\"latitude\"]),\n",
    "        crs=\"EPSG:4326\"\n",
    "    )\n",
    "elif \"geometry\" in gnaf_df.columns:\n",
    "    gnaf = gpd.GeoDataFrame(\n",
    "        gnaf_df,\n",
    "        geometry=gnaf_df[\"geometry\"].apply(wkt.loads),\n",
    "        crs=\"EPSG:4326\"\n",
    "    )\n",
    "else:\n",
    "    raise ValueError(\"Cannot find geometry in GNAF dataset\")\n",
    "gnaf = gnaf.to_crs(projected_crs)\n",
    "\n",
    "# Keep only geometry and address in GNAF\n",
    "gnaf_for_join = gnaf[['address', 'geometry']].copy()\n",
    "\n",
    "# Reset index to avoid conflicts\n",
    "gnaf_for_join = gnaf_for_join.reset_index(drop=True)\n",
    "\n",
    "# Perform nearest join\n",
    "cadastre_nearest =cadastre_nearest.rename({'index_right':'rt_idx'}, axis=1)\n",
    "print(cadastre_nearest.head())\n",
    "cadastre_with_address = gpd.sjoin_nearest(\n",
    "    cadastre_nearest,\n",
    "    gnaf_for_join,\n",
    "    how='left',\n",
    "    distance_col='dist_to_address'\n",
    ")\n",
    "\n"
   ]
  },
  {
   "cell_type": "code",
   "execution_count": 60,
   "id": "3fd88b84-8103-4f55-9515-ddba07c8b3b1",
   "metadata": {},
   "outputs": [
    {
     "name": "stdout",
     "output_type": "stream",
     "text": [
      "✅ Finished: property_orientations.csv and property_orientations.gpkg created with one property per row\n"
     ]
    }
   ],
   "source": [
    "# ------------------------\n",
    "# Step 6: Prepare output\n",
    "# ------------------------\n",
    "\n",
    "# Keep only relevant columns\n",
    "output = cadastre_with_address[['address', 'orientation', 'geometry']]\n",
    "\n",
    "# Ensure one row per property (unique by geometry or address)\n",
    "# Option 1: Unique by geometry\n",
    "output = output.drop_duplicates(subset=['geometry'])\n",
    "\n",
    "# Option 2: Unique by address (if address is unique per property)\n",
    "# output = output.drop_duplicates(subset=['address'])\n",
    "\n",
    "# Drop any rows with missing values\n",
    "output = output.dropna(subset=['address', 'orientation'])\n",
    "\n",
    "# Save CSV\n",
    "output[['address', 'orientation']].to_csv(\"property_orientations.csv\", index=False)\n",
    "\n",
    "# Save GeoPackage (optional)\n",
    "output.to_file(\n",
    "    \"property_orientations.gpkg\",\n",
    "    layer=\"property_orientation\",\n",
    "    driver=\"GPKG\"\n",
    ")\n",
    "\n",
    "print(\"✅ Finished: property_orientations.csv and property_orientations.gpkg created with one property per row\")\n"
   ]
  }
 ],
 "metadata": {
  "kernelspec": {
   "display_name": "Python 3 (ipykernel)",
   "language": "python",
   "name": "python3"
  },
  "language_info": {
   "codemirror_mode": {
    "name": "ipython",
    "version": 3
   },
   "file_extension": ".py",
   "mimetype": "text/x-python",
   "name": "python",
   "nbconvert_exporter": "python",
   "pygments_lexer": "ipython3",
   "version": "3.10.16"
  }
 },
 "nbformat": 4,
 "nbformat_minor": 5
}
